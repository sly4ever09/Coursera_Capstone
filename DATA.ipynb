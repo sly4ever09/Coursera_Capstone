{
 "cells": [
  {
   "cell_type": "markdown",
   "metadata": {},
   "source": [
    "## CAPSTONE PROJECT - THE BATTLE OF AFRICAN CITIES"
   ]
  },
  {
   "cell_type": "markdown",
   "metadata": {},
   "source": [
    "### FINDING SILICON SAHARA"
   ]
  },
  {
   "cell_type": "markdown",
   "metadata": {},
   "source": [
    "### DATA"
   ]
  },
  {
   "cell_type": "markdown",
   "metadata": {},
   "source": [
    "### DATA PROCESSING & EXPLORATION\n",
    "\n",
    "The biggest challenge I faced when working on this project was the lack of a comprehensive, validated and updated database on the technology ecosystem landscape of Africa, primarily as a result of the small base of literature and research on Technology Hubs in Africa. \n",
    "This study builds on a previous body of work by BongoHive, which maintains a current list of Technology Hubs in the African Technology Ecosystem landscape along with its colocation data on a crowdsourcing model, https://africahubs.crowdmap.com/reports/download.\n",
    "\n",
    "The data acquired from the link above is formatted and restructure to an Excel file for ease of data wrangling and reading. The file is uploaded to my Github for reference.\n",
    "Exploratory data analysis of the Technology hubs dataset is integrated with and complemented by spatial analytics and interactive mapping enabled by Foursquare API to drive powerful synergies for a more comprehensive, insightful and data-driven decision making. In this context, stakeholders can gain more insights from colocation of the active technology hubs and their geographical implications.\n",
    "\n",
    "This comprehensive analytics enable by Location intelligence of the Foursquare API is summarized into a final report outlining the initial findings across a subset data (a consequence of working within the constraints of limited data) of the African Technology Ecosystem to answer stakeholders’ most critical question , “Where?” - tAfrica's prime digital innovation hub to locate Industry Cloud and Big Data business - as predicated on geographic and spatial factors.\n",
    "\n",
    "The following is a review of datasets, data analysis and exploration done for this project dataset.\n",
    "\n",
    "I.  List of Active African Tech Hubs, Innovation Hubs & Hackerspaces by BongoHive:                                         The dataset enable exploration, analysis and reporting across slices of major dimensions of the African Technology Ecosystem landscape – evolution and growth of the African technology ecosystem, number of active tech hubs, top ecosystem countries and cities, etc. However, data in this form of a spreadsheet neglects an important aspect of business intelligence, the real-world influence of geography. There are location and geographic context to every element of business. Ignoring this leads to substandard decision making by stakeholders.\n",
    "\n",
    "II.  Foursquare API: \n",
    "\n",
    "The exploratory data analysis is integrated with location data spatial analytics enabled by the Foursquare API to inform actions or responses to business opportunities. In this project we leverage the Foursquare api to extract business venues data for each technology hub to inform of unique economic clustering - the economies of scale, scope and connectivity.\n",
    "\n",
    "III.  Data Visualization Modules and Libraries (Folium, MatplotLib):\n",
    "\n",
    "Interactive maps in our reports delivers instant insights to stakeholders and end-users. This leads to new insights that explain where a problem or opportunity exists and why. Users CAN easily pan, zoom, and click on maps to interact with tables, charts, and graphs within the report. This project report delivers an intuitive end-user experience that helps to identify Africa's prime digital innovation hub - Silicon Sahara. Stakeholders and decision makers are able to visualize the influence of geography and scope on different cities and regions of the African Technology Ecosystem landscape."
   ]
  },
  {
   "cell_type": "code",
   "execution_count": null,
   "metadata": {},
   "outputs": [],
   "source": []
  }
 ],
 "metadata": {
  "kernelspec": {
   "display_name": "Python 3",
   "language": "python",
   "name": "python3"
  },
  "language_info": {
   "codemirror_mode": {
    "name": "ipython",
    "version": 3
   },
   "file_extension": ".py",
   "mimetype": "text/x-python",
   "name": "python",
   "nbconvert_exporter": "python",
   "pygments_lexer": "ipython3",
   "version": "3.6.6"
  }
 },
 "nbformat": 4,
 "nbformat_minor": 2
}
