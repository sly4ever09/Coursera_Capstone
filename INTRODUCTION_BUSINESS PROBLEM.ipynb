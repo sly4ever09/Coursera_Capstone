{
 "cells": [
  {
   "cell_type": "markdown",
   "metadata": {},
   "source": [
    "##  CAPSTONE PROJECT - THE BATTLE OF AFRICAN CITIES"
   ]
  },
  {
   "cell_type": "markdown",
   "metadata": {},
   "source": [
    "### FINDING  SILICON SAHARA"
   ]
  },
  {
   "cell_type": "markdown",
   "metadata": {},
   "source": [
    "#### INTRODUCTION"
   ]
  },
  {
   "cell_type": "markdown",
   "metadata": {},
   "source": [
    "For decades, the Silicon Valley model has progressively transformed the way innovation and entrepreneurship is viewed globally. Spencer, Vinodrai, Gertler, & Wolfe, 2009 posits that ‘There are measurable benefits for related economic activities to locate in the same metropolitan region’.\n",
    "\n",
    "This has inspired technology-minded individuals to form clusters, across various geographical regions, to collectively shape the world with technological innovation that mirrors that of Silicon Valley. From London’s ‘Silicon Roundabout’ to Dubai’s ‘Silicon Oasis’, governments and businesses around the world are keen to brand their local tech industries as the next hotbed of innovation. With young, digitally-savvy populations, African cities are also joining in on the trend: ‘Silicon Savannah’, ‘Silicon Cape’ and ‘Silicon Lagoon’ have emerged as popular monikers for Nairobi, Cape Town, and Lagos. \n",
    "\n",
    "The Silicon valley model maximizes digital dividends by the aggregate impact of the “analog” complements to digital technology (governments, academia, institutions and infrastructure) ie. how digital ecosystem interacts with other, non-technical factors. Inclusion, efficiency, innovation are the main mechanisms by which the Silicon valley model has boosted growth, expanded opportunities, and improved service delivery. Start-up ecosystems, or networks of start-ups and their support structures, interact with each other to develop the existing companies and create new ones. Tech hubs, the incubators, accelerators and collaborative spaces that foster the startups, are thus quite obviously intrinsic to these ecosystems. \n",
    "\n",
    "In Africa, the increasing preference for this flexible business models for start-up support, investment and the reconfiguration of the working space has resulted in a huge spike in working spaces and incubation programs giving rise to one of the fastest growing technology ecosystems in the world. More cities are emerging as regional innovative hubs and there is now a growing battle between some of Africa’s largest cities and regions as the leader of Africa’s thriving technology ecosystem landscape.\n",
    "\n",
    "In this project work is done on locating Africa's hottest digital innovation hub, Silicon Sahara.\n",
    "Silicon Sahara represents Africa's most geographically advantaged region or city by agglomeration and economic cluster of infrastructure, business institutions and technology ecosystem that can benefit from economies of scale, scope and connectivity.\n",
    "\n",
    "A k-means clustering classification algorithm is integrated with location data and spatial analytics of the Foursquare API to segment and map the colocations and cities of Africa’s Active Technology hubs by geographically referenced data to derive insights and reveal the relationship of these locations/cities to people, events, transactions, and business venues.  \n",
    "Interactive maps are then used to visualize the results of project findings to expose spatial relationships and influence of geography. \n",
    "Finally, Silicon Sahara is identified and visualized by its geo-coordinates and discriminating unique characteristics of Technology Hub density and economic clusters."
   ]
  },
  {
   "cell_type": "markdown",
   "metadata": {},
   "source": [
    "### Business Problem\n",
    "\n",
    "In Africa, Digital technologies continue to spread rapidly. Digital dividends, the aggregate impact of these technologies, however, has fallen short thus far. \n",
    "\n",
    "This has been one of the key features of the African digital renaissance. Nonetheless the African continent remains the one of the most promising digital ecosystem markets as we ride an increasingly digitized world into the future. It is projected that 1 in 4 people worldwide will be African by 2030. As the Region’s population soars and more people come online for the first time, businesses and the region’s economy overall will become more digital as entrepreneurs, stakeholders and governments adapt and leverage digital transformation for efficiency, better decision-making and solutions better suited to the “next billion”.\n",
    "\n",
    "As the African economy becomes increasingly digitized, the expected growth of IoT will generate all kinds of structured and unstructured data that will need to be tracked and processed by companies on a daily basis. \n",
    "To effectively maximize the digital dividends, tools/services of utility and value - highly scalable cloud computing to process and store this data; sophisticated big data analytics tools and platforms to extract the data value and insights; security to protect the data will be required and integrated with other sources of information to drive better decision making and yield a new spectrum of competitive business insight. This can be achieved by leveraging the connectivity, analytical and cognitive services enabled by Industry Cloud and Big Data & Analytics, allowing development and deployment of solutions to be achieved faster and more efficiently than ever before.\n",
    "\n",
    "This presents huge opportunities for tech giants and established corporation especially in the Industry Cloud and Big Data space who will be looking to Africa for their next expansion phases. \n",
    "Already, there is heavy interest in the continents digital advancements. The last couple of years have also been characterised by the rise of worlds tech giants’ activity and interest in the untapped opportunities of African markets. Executives from Google, Facebook and Alibaba have visited various countries in Africa to launch products and scout for opportunities, while local tech hubs are also driving the industry. Earlier in 2018, Google opened its first accelerator outside of the United States, Launchpad Africa, in Lagos. The support and mentorship will be similar to what is offered in Silicon Valley, modified to cater to the African context. Tech leaders and visionaries including Mark Zuckerberg (Facebook), Sundar Pichai (Google), and Jack Ma (Alibaba) have also visited major hubs from Lagos to Nairobi. Corporate partnerships HAVE mushroomed and some of technology's big players including Amazon and Alibaba have increased their presence all across the African continent. Before them, established mobile operators have been extending their footprints to the African continent by launching their own incubation, acceleration or co-working spaces and it is observed that about 12 percent of the active hubs on the African continent are now either run or backed by a local mobile operator. MTN, Vodacom, and Orange being the most active operators in Africa when it comes to running or engaging with local tech hubs.\n",
    "\n",
    "For Tech giants like Google, Amazon Web Services, IBM, Oracle looking to expand its data and cloud services portfolio into the African continent, the biggest challenge is identifying the most ideal city or region to locate their business. \n",
    "Since IT solutions is no longer be exclusive to the IT sector the ideal location for Africa's premier large scale Industry Cloud & Big Data service provider is the most geographically advantaged city or region by agglomeration and economic cluster of infrastructure, business institutions and technology ecosystem that can benefit from economies of scale, scope and connectivity (as in the Silicon Valley model) to lead Africa's digital transformation.\n",
    "The aggregate impact or digital dividend will see the region transformed into one large integrated network, allowing for the complete digitization of the African economy.\n",
    "\n",
    "\n"
   ]
  },
  {
   "cell_type": "markdown",
   "metadata": {},
   "source": [
    "### Interested Stakeholders\n",
    "\n",
    "Every business event or transaction happens at a specific location for reasons that, when clearly understood, reveal insights that comprise the “intelligence” component of Business Analytics. There are location and geographic context to every element of business. Ignoring this leads to substandard decision making by businesses and stakeholders. \n",
    "\n",
    "Location data applies geographical or spatial context to information (or datasets) to inform actions or responses to business opportunities. As a result, spatial data analytics and visualization using location data and interactive maps are becoming the language in which to present data, exposing spatial relationships and influences that just are not visible in traditional tabular views of data. This leads to new insights that explain where a problem or opportunity exists and why.\n",
    "\n",
    "The work done in this project presents a significant opportunity for organizations in nearly every industry to leverage location data and spatial analytics as part of their everyday decision-making process to yield a new spectrum of competitive business insight.\n",
    "In particular, this project is of prime interest to IoT & Big Data Analytics and RapidScale Industry Cloud solutions providers like Amazon, Google, Microsoft, IBM, Oracle, etc.\n",
    "\n",
    "More generally, this project work is appealing to the concept of relatability. What has been researched in this study will be of interest to other researchers and institution interested in Africa's Technology Ecosystem, and that will add incrementally, to the patchwork of research on the said topic."
   ]
  },
  {
   "cell_type": "code",
   "execution_count": null,
   "metadata": {},
   "outputs": [],
   "source": []
  }
 ],
 "metadata": {
  "kernelspec": {
   "display_name": "Python 3",
   "language": "python",
   "name": "python3"
  },
  "language_info": {
   "codemirror_mode": {
    "name": "ipython",
    "version": 3
   },
   "file_extension": ".py",
   "mimetype": "text/x-python",
   "name": "python",
   "nbconvert_exporter": "python",
   "pygments_lexer": "ipython3",
   "version": "3.6.6"
  }
 },
 "nbformat": 4,
 "nbformat_minor": 2
}
